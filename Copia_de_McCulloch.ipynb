{
  "nbformat": 4,
  "nbformat_minor": 0,
  "metadata": {
    "colab": {
      "provenance": [],
      "authorship_tag": "ABX9TyPpnE7NZOBDMS7P9s4aEci1",
      "include_colab_link": true
    },
    "kernelspec": {
      "name": "python3",
      "display_name": "Python 3"
    },
    "language_info": {
      "name": "python"
    }
  },
  "cells": [
    {
      "cell_type": "markdown",
      "metadata": {
        "id": "view-in-github",
        "colab_type": "text"
      },
      "source": [
        "<a href=\"https://colab.research.google.com/github/erikajoss/REDES-NEURONALES/blob/main/Copia_de_McCulloch.ipynb\" target=\"_parent\"><img src=\"https://colab.research.google.com/assets/colab-badge.svg\" alt=\"Open In Colab\"/></a>"
      ]
    },
    {
      "cell_type": "code",
      "execution_count": null,
      "metadata": {
        "colab": {
          "base_uri": "https://localhost:8080/"
        },
        "id": "gIdmYIz1spBG",
        "outputId": "6c0f27c1-0ea7-4360-aceb-22804e8e35c8"
      },
      "outputs": [
        {
          "output_type": "stream",
          "name": "stdout",
          "text": [
            "Suma ponderada (S): 1\n",
            "Salida (y): 0\n"
          ]
        }
      ],
      "source": [
        "#Paso 1: Definir las entrdas, pesos y umbral\n",
        "x1 = 1\n",
        "x2 = 0\n",
        "\n",
        "w1 = 1\n",
        "w2 = 1\n",
        "\n",
        "umbral = 2\n",
        "\n",
        "# Paso 2: Calcular la suma ponderada\n",
        "S = (x1 * w1) + (x2 * w2)\n",
        "\n",
        "# Paso 3: Determinar la salida de la neurona\n",
        "if S >= umbral:\n",
        "  y = 1\n",
        "else:\n",
        "  y = 0\n",
        "\n",
        "# Mostrar el resultado\n",
        "print(f\"Suma ponderada (S): {S}\")\n",
        "print(f\"Salida (y): {y}\")"
      ]
    }
  ]
}
{
  "nbformat": 4,
  "nbformat_minor": 0,
  "metadata": {
    "colab": {
      "provenance": [],
      "authorship_tag": "ABX9TyNOJWMBQMq35oGOocqLJSnF",
      "include_colab_link": true
    },
    "kernelspec": {
      "name": "python3",
      "display_name": "Python 3"
    },
    "language_info": {
      "name": "python"
    }
  },
  "cells": [
    {
      "cell_type": "markdown",
      "metadata": {
        "id": "view-in-github",
        "colab_type": "text"
      },
      "source": [
        "<a href=\"https://colab.research.google.com/github/erikajoss/REDES-NEURONALES/blob/main/Copia_de_Compuertas_ADN.ipynb\" target=\"_parent\"><img src=\"https://colab.research.google.com/assets/colab-badge.svg\" alt=\"Open In Colab\"/></a>"
      ]
    },
    {
      "cell_type": "code",
      "execution_count": null,
      "metadata": {
        "colab": {
          "base_uri": "https://localhost:8080/"
        },
        "id": "irovqfV_weAv",
        "outputId": "dfe31591-fe01-47e3-c12d-905156b3efdf"
      },
      "outputs": [
        {
          "output_type": "stream",
          "name": "stdout",
          "text": [
            "Suma ponderada (S): 2\n",
            "Salida (y): 1\n"
          ]
        }
      ],
      "source": [
        "# Compuerta AND: se activa solo si ambas entrdas son 1\n",
        "x1 = 1\n",
        "x2 = 1\n",
        "\n",
        "w1 = 1\n",
        "w2 = 1\n",
        "\n",
        "umbral = 2 # Para que funcione como AND, necesitamos que S >=2\n",
        "\n",
        "S = (x1 * w1) + (x2 * w2)\n",
        "\n",
        "\n",
        "if S >= umbral:\n",
        "  y = 1\n",
        "else:\n",
        "  y = 0\n",
        "\n",
        "print(f\"Suma ponderada (S): {S}\")\n",
        "print(f\"Salida (y): {y}\")"
      ]
    }
  ]
}
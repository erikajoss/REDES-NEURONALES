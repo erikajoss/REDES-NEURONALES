{
  "nbformat": 4,
  "nbformat_minor": 0,
  "metadata": {
    "colab": {
      "provenance": [],
      "authorship_tag": "ABX9TyMbB3gBlFG++yKb5cdvWbmt",
      "include_colab_link": true
    },
    "kernelspec": {
      "name": "python3",
      "display_name": "Python 3"
    },
    "language_info": {
      "name": "python"
    }
  },
  "cells": [
    {
      "cell_type": "markdown",
      "metadata": {
        "id": "view-in-github",
        "colab_type": "text"
      },
      "source": [
        "<a href=\"https://colab.research.google.com/github/erikajoss/REDES-NEURONALES/blob/main/Copia_de_Numpy.ipynb\" target=\"_parent\"><img src=\"https://colab.research.google.com/assets/colab-badge.svg\" alt=\"Open In Colab\"/></a>"
      ]
    },
    {
      "cell_type": "code",
      "execution_count": null,
      "metadata": {
        "colab": {
          "base_uri": "https://localhost:8080/"
        },
        "id": "3OMEKvXd8kvQ",
        "outputId": "7b153338-0eef-48b1-c91b-ab18298b0b9d"
      },
      "outputs": [
        {
          "output_type": "stream",
          "name": "stdout",
          "text": [
            "La activacion de la neurona es: 0.32739298293223956\n"
          ]
        }
      ],
      "source": [
        "import numpy as np\n",
        "import matplotlib.pyplot as plt\n",
        "\n",
        "# Simulacion de activacion neuronal\n",
        "def activacion_neuronal(entradas, pesos, umbral):\n",
        "  suma = np.dot(entradas, pesos) - umbral\n",
        "  return 1 / (1+ np.exp(-suma)) #funcion logistica\n",
        "\n",
        "entradas = np.array([0.5, -0.2, 0.8])\n",
        "pesos = np.array([0.4, 0.9, -0.3])\n",
        "umbral = 0.5\n",
        "\n",
        "activacion = activacion_neuronal(entradas, pesos, umbral)\n",
        "print(f\"La activacion de la neurona es: {activacion}\")"
      ]
    }
  ]
}